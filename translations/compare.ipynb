{
 "cells": [
  {
   "cell_type": "code",
   "execution_count": null,
   "metadata": {},
   "outputs": [],
   "source": [
    "import xml.etree.ElementTree as ET\n",
    "import pandas as pd\n",
    "\n",
    "def parse_xml_notes(file_path):\n",
    "    tree = ET.parse(file_path)\n",
    "    root = tree.getroot()\n",
    "    notes = []\n",
    "    for note in root.findall('.//note'):\n",
    "        note_id = note.get('xml:id')\n",
    "        note_type = note.get('type')\n",
    "        target = note.get('target')\n",
    "        target_end = note.get('targetEnd')\n",
    "        text = note.text.strip() if note.text else ''\n",
    "        notes.append({'note_id': note_id, 'type': note_type, 'target': target, 'target_end': target_end, 'text': text})\n",
    "    return notes\n",
    "\n",
    "def compare_notes(xml_files):\n",
    "    data = []\n",
    "    for file in xml_files:\n",
    "        notes = parse_xml_notes(file)\n",
    "        for note in notes:\n",
    "            data.append(note)\n",
    "    df = pd.DataFrame(data)\n",
    "    return df.pivot_table(index=['target', 'target_end'], columns='note_id', values='text', aggfunc='first')\n",
    "\n",
    "xml_files = [\"file1.xml\", \"file2.xml\", \"file3.xml\"]  # list of XML file paths\n",
    "comparison_table = compare_notes(xml_files)\n",
    "print(comparison_table)\n"
   ]
  }
 ],
 "metadata": {
  "kernelspec": {
   "display_name": "Python 3",
   "language": "python",
   "name": "python3"
  },
  "language_info": {
   "name": "python",
   "version": "3.12.2"
  }
 },
 "nbformat": 4,
 "nbformat_minor": 2
}
